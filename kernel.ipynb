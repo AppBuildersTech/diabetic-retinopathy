{
  "cells": [
    {
      "metadata": {
        "trusted": true,
        "_uuid": "3963882fa542b40c1d4f2ee55059009241b29525"
      },
      "cell_type": "code",
      "source": "import numpy as np\nfrom keras.layers import Input\nfrom keras.models import Sequential\nfrom keras.layers import Convolution2D\nfrom keras.models import Model\nfrom keras.layers import GlobalAveragePooling2D,MaxPooling2D\nfrom keras.layers import Dense,Flatten,SpatialDropout2D\nfrom keras.layers.merge import concatenate\n\nfrom keras.callbacks import EarlyStopping, ModelCheckpoint\nfrom keras.callbacks import History\nimport matplotlib.pyplot as plt\nfrom sklearn.metrics import confusion_matrix\n%matplotlib inline",
      "execution_count": 1,
      "outputs": [
        {
          "output_type": "stream",
          "text": "Using TensorFlow backend.\n",
          "name": "stderr"
        }
      ]
    },
    {
      "metadata": {
        "trusted": true,
        "collapsed": true,
        "_uuid": "ea4047a6d98e2577c4177d9d2ae02bc431a34825"
      },
      "cell_type": "code",
      "source": "def buildNet(num_classes=2):\n    \"\"\"\n    Function to build 4 layer NN with 2 Conv layers, 1 MaxPool layer,\n    1 GlobalMaxPool layer and 2 Dense layers\n    \n    Parameters\n    ----------\n    num_classes: int\n                 Number of classes in training data\n    Returns\n    -------\n    model:\n            Model created\n           \n    \"\"\"\n    #channel1 RGB Data\n    input1= Input(shape=(64,64,3))\n    conv11=Convolution2D(32, (3,3),input_shape=(64,64,3),activation='relu')(input1)\n    pool11=MaxPooling2D(pool_size=(2,2))(conv11)\n    conv12=Convolution2D(64, (3,3),activation='relu')(pool11)\n    pool12=GlobalAveragePooling2D()(conv12)\n    \n    #Channel2 Greyscale\n    input2= Input(shape=(64,64,1))\n    conv21=Convolution2D(32, (3,3),input_shape=(64,64,3),activation='relu')(input2)\n    pool21=MaxPooling2D(pool_size=(2,2))(conv21)\n    conv22=Convolution2D(64, (3,3),activation='relu')(pool21)\n    pool22=GlobalAveragePooling2D()(conv22)\n    \n    merge=concatenate([pool12,pool22])\n    hidden1=Dense(128, activation='relu')(merge)\n    output=Dense(num_classes, activation='sigmoid')(hidden1)\n    model=Model(input=[input1,input2],outputs=output)\n    model.compile(loss='binary_crossentropy', optimizer='adam', metrics=['accuracy'])\n    print(model.summary())\n    return model",
      "execution_count": 8,
      "outputs": []
    },
    {
      "metadata": {
        "trusted": true,
        "_uuid": "8827c380d296c19bf2e454b2c6b6460f8896c25a"
      },
      "cell_type": "code",
      "source": "def plot_model_history(history):\n    \"\"\"\n    Function to plot training and validation data of model\n    \n    Parameters\n    ----------\n    history: dictionary\n             history of training and validation of model\n    Returns\n    -------\n    None\n    \n    \"\"\"\n    print(history.history.keys())\n    # summarize history for accuracy\n    plt.plot(history.history['acc'])\n    plt.plot(history.history['val_acc'])\n    plt.title('model accuracy')\n    plt.ylabel('accuracy')\n    plt.xlabel('epoch')\n    plt.legend(['train', 'test'], loc='upper left')\n    plt.show()\n    # summarize history for loss\n    plt.plot(history.history['loss'])\n    plt.plot(history.history['val_loss'])\n    plt.title('model loss')\n    plt.ylabel('loss')\n    plt.xlabel('epoch')\n    plt.legend(['train', 'test'], loc='upper left')\n    plt.show()",
      "execution_count": 10,
      "outputs": []
    },
    {
      "metadata": {
        "trusted": false,
        "collapsed": true,
        "_uuid": "9c1180d2cf80e9db17bdeaa65287f96f389567fb"
      },
      "cell_type": "code",
      "source": "def trainNet(X_train1,X_train2,y_train,X_val1,X_val2,y_val):\n    \"\"\"\n    Function to train NN created\n    \n    Arguments\n    ---------\n    X_train: numpy array\n             training samples\n    y_train: numpy array\n             labels of training samples\n    \n    X_val: numpy array\n             validation samples\n    y_val: numpy array\n             labels of validation samples\n    \n    Returns\n    -------\n    None\n    \"\"\"\n    num_classes = y_train.shape[1]\n    model = buildNet(num_classes)\n    history = History()\n    callbacks = [EarlyStopping(monitor='val_loss', patience=5),\n             ModelCheckpoint(filepath='best_model.h5', monitor='val_loss', save_best_only=True),history]\n    model.fit([X_train1,X_train2], y_train, validation_data=([X_val1,X_val2], y_val), epochs=30, batch_size=100,callbacks=callbacks,verbose=1)\n    model.save(\"MultiChannel_Retinopathy.h5\")\n    plot_model_history(history)",
      "execution_count": null,
      "outputs": []
    },
    {
      "metadata": {
        "trusted": false,
        "collapsed": true,
        "_uuid": "020cb8f1a955db7be9728bd82646eb29eba455f1"
      },
      "cell_type": "code",
      "source": "",
      "execution_count": null,
      "outputs": []
    },
    {
      "metadata": {
        "trusted": true,
        "collapsed": true,
        "_uuid": "9682fa17197637ca3a519332401ed1bb63630c13"
      },
      "cell_type": "code",
      "source": "def testNet(X_test,y_test):\n    \"\"\"\n    Function to load and test the model and print confusion matrix\n    \n    Parameters\n    ----------\n    X_test: numpy array\n            testing samples\n    y_test: numpy array\n            labels of testing samples\n    Returns\n    -------\n    pred: list\n          prediction made by model\n    \"\"\"\n    model = load_model('best_model.h5')\n    pred=model.predict([X_test1,X_test2])\n    pred=np.argmax(np.round(pred),axis=1)\n    actual=np.argmax(np.round(y_test),axis=1)\n    conf_matrix=confusion_matrix(actual, pred)\n    print(conf_matrix)",
      "execution_count": 11,
      "outputs": []
    },
    {
      "metadata": {
        "trusted": false,
        "collapsed": true,
        "_uuid": "888499cb2089a694bdb479fa9d609217bd80b7da"
      },
      "cell_type": "code",
      "source": "if __name__==\"__main__\":\n    \"\"\"\n    1.Add code to shuffle data and preprocess image data\n    2.Split data into train,test sets\n    3.Uncomment the code below \n    \"\"\"\n    #hist=trainNet(X_train,y_train,X_val,y_val)\n    #plot_model_history(hist)\n    #testNet(X_val,y_val)\n    ",
      "execution_count": null,
      "outputs": []
    },
    {
      "metadata": {
        "trusted": false,
        "collapsed": true,
        "_uuid": "f896562ea74483d082d07dbfd5dd60f3f7929528"
      },
      "cell_type": "code",
      "source": "",
      "execution_count": null,
      "outputs": []
    }
  ],
  "metadata": {
    "kernelspec": {
      "display_name": "Python 3",
      "language": "python",
      "name": "python3"
    },
    "language_info": {
      "codemirror_mode": {
        "name": "ipython",
        "version": 3
      },
      "file_extension": ".py",
      "mimetype": "text/x-python",
      "name": "python",
      "nbconvert_exporter": "python",
      "pygments_lexer": "ipython3",
      "version": "3.6.4"
    }
  },
  "nbformat": 4,
  "nbformat_minor": 1
}